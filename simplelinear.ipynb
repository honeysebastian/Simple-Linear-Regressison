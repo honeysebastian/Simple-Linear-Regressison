{
  "nbformat": 4,
  "nbformat_minor": 0,
  "metadata": {
    "colab": {
      "name": "simplelinear.ipynb",
      "provenance": [],
      "collapsed_sections": []
    },
    "kernelspec": {
      "name": "python3",
      "display_name": "Python 3"
    },
    "language_info": {
      "name": "python"
    }
  },
  "cells": [
    {
      "cell_type": "code",
      "execution_count": 1,
      "metadata": {
        "id": "-TI2McR773BV",
        "colab": {
          "base_uri": "https://localhost:8080/"
        },
        "outputId": "3d233542-7017-4370-e641-ab26cbef328d"
      },
      "outputs": [
        {
          "output_type": "stream",
          "name": "stdout",
          "text": [
            "Mounted at /content/drive\n"
          ]
        }
      ],
      "source": [
        "import os,sys\n",
        "from google.colab import drive \n",
        "drive.mount('/content/drive')\n",
        "os.chdir(\"/content/drive/My Drive/colab notebooks/\")\n",
        "sys.path.append(\"/content/drive/My Drive/colab notebooks/\")"
      ]
    },
    {
      "cell_type": "code",
      "source": [
        "import numpy as np\n",
        "import matplotlib.pyplot as plt\n",
        "import pandas as pd\n",
        "\n",
        "dataset = pd.read_excel('WF.xlsx')\n",
        "\n",
        "X = dataset.iloc[2:,6].values.reshape(-1,1) \n",
        "y = dataset.iloc[2:,4].values.reshape(-1,1) "
      ],
      "metadata": {
        "id": "lKCOVxkr9WlI"
      },
      "execution_count": 2,
      "outputs": []
    },
    {
      "cell_type": "code",
      "source": [
        "dataset"
      ],
      "metadata": {
        "colab": {
          "base_uri": "https://localhost:8080/",
          "height": 739
        },
        "id": "dhb8RQ969ssa",
        "outputId": "16d60eb2-0145-4f0b-89ef-3d8dc3ed0ce6"
      },
      "execution_count": 4,
      "outputs": [
        {
          "output_type": "execute_result",
          "data": {
            "text/plain": [
              "                                           Unnamed: 0  Unnamed: 1 Unnamed: 2  \\\n",
              "0   Table 9.19 Data on Lok Sabha election winning ...         NaN        NaN   \n",
              "1                                                 NaN         NaN     S. No.   \n",
              "2                                                 NaN         NaN          1   \n",
              "3                                                 NaN         NaN          2   \n",
              "4                                                 NaN         NaN          3   \n",
              "5                                                 NaN         NaN          4   \n",
              "6                                                 NaN         NaN          5   \n",
              "7                                                 NaN         NaN          6   \n",
              "8                                                 NaN         NaN          7   \n",
              "9                                                 NaN         NaN          8   \n",
              "10                                                NaN         NaN          9   \n",
              "11                                                NaN         NaN         10   \n",
              "12                                                NaN         NaN         11   \n",
              "13                                                NaN         NaN         12   \n",
              "14                                                NaN         NaN         13   \n",
              "15                                                NaN         NaN         14   \n",
              "16                                                NaN         NaN         15   \n",
              "17                                                NaN         NaN         16   \n",
              "18                                                NaN         NaN         17   \n",
              "19                                                NaN         NaN         18   \n",
              "20                                                NaN         NaN         19   \n",
              "21                                                NaN         NaN         20   \n",
              "\n",
              "            Unnamed: 3      Unnamed: 4                Unnamed: 5  \\\n",
              "0                  NaN             NaN                       NaN   \n",
              "1         Constituency  Winning Margin  Air India Top 20 flights   \n",
              "2            Alappuzha           19407          Bangalore-Mumbai   \n",
              "3              Alathur           37312          Ahmedabad-Mumbai   \n",
              "4             Attingal           69378          Hyderabad-Mumbai   \n",
              "5            Chalakudy           13884                Mumbai-Goa   \n",
              "6            Ernakulum           87047             Delhi-Kolkata   \n",
              "7               Idukki           50542             Chennai-Delhi   \n",
              "8               Kannur            6566           Delhi-Bangalore   \n",
              "9            Kasaragod            6921            Mumbai-Chennai   \n",
              "10              Kollam           37649             Kolkata-Delhi   \n",
              "11            Kottayam          120599              Mumbai–Delhi   \n",
              "12           Kozhikode           16883           Hyderabad-Delhi   \n",
              "13          Malappuram          194740              Delhi–Mumbai   \n",
              "14         Mavelikkara           32737          Mumbai-Ahmedabad   \n",
              "15            Palakkad          105300          Mumbai-Hyderabad   \n",
              "16      Pathanamthitta           56191            Chennai-Mumbai   \n",
              "17             Ponnani           25410           Bangalore-Delhi   \n",
              "18  Thiruvananthapuram           15470                Goa-Mumbai   \n",
              "19            Thrissur           38228             Delhi-Chennai   \n",
              "20            Vadakara            3306           Delhi-Hyderabad   \n",
              "21             Wayanad           20870          Mumbai-Bangalore   \n",
              "\n",
              "                  Unnamed: 6  \n",
              "0                        NaN  \n",
              "1   Maximum Delay in Minutes  \n",
              "2                        182  \n",
              "3                        203  \n",
              "4                        240  \n",
              "5                        164  \n",
              "6                        265  \n",
              "7                        226  \n",
              "8                        156  \n",
              "9                        161  \n",
              "10                       219  \n",
              "11                       328  \n",
              "12                       181  \n",
              "13                       340  \n",
              "14                       202  \n",
              "15                       284  \n",
              "16                       234  \n",
              "17                       199  \n",
              "18                       178  \n",
              "19                       225  \n",
              "20                       146  \n",
              "21                       197  "
            ],
            "text/html": [
              "\n",
              "  <div id=\"df-0cfa3672-d810-4bce-a540-4961218129f6\">\n",
              "    <div class=\"colab-df-container\">\n",
              "      <div>\n",
              "<style scoped>\n",
              "    .dataframe tbody tr th:only-of-type {\n",
              "        vertical-align: middle;\n",
              "    }\n",
              "\n",
              "    .dataframe tbody tr th {\n",
              "        vertical-align: top;\n",
              "    }\n",
              "\n",
              "    .dataframe thead th {\n",
              "        text-align: right;\n",
              "    }\n",
              "</style>\n",
              "<table border=\"1\" class=\"dataframe\">\n",
              "  <thead>\n",
              "    <tr style=\"text-align: right;\">\n",
              "      <th></th>\n",
              "      <th>Unnamed: 0</th>\n",
              "      <th>Unnamed: 1</th>\n",
              "      <th>Unnamed: 2</th>\n",
              "      <th>Unnamed: 3</th>\n",
              "      <th>Unnamed: 4</th>\n",
              "      <th>Unnamed: 5</th>\n",
              "      <th>Unnamed: 6</th>\n",
              "    </tr>\n",
              "  </thead>\n",
              "  <tbody>\n",
              "    <tr>\n",
              "      <th>0</th>\n",
              "      <td>Table 9.19 Data on Lok Sabha election winning ...</td>\n",
              "      <td>NaN</td>\n",
              "      <td>NaN</td>\n",
              "      <td>NaN</td>\n",
              "      <td>NaN</td>\n",
              "      <td>NaN</td>\n",
              "      <td>NaN</td>\n",
              "    </tr>\n",
              "    <tr>\n",
              "      <th>1</th>\n",
              "      <td>NaN</td>\n",
              "      <td>NaN</td>\n",
              "      <td>S. No.</td>\n",
              "      <td>Constituency</td>\n",
              "      <td>Winning Margin</td>\n",
              "      <td>Air India Top 20 flights</td>\n",
              "      <td>Maximum Delay in Minutes</td>\n",
              "    </tr>\n",
              "    <tr>\n",
              "      <th>2</th>\n",
              "      <td>NaN</td>\n",
              "      <td>NaN</td>\n",
              "      <td>1</td>\n",
              "      <td>Alappuzha</td>\n",
              "      <td>19407</td>\n",
              "      <td>Bangalore-Mumbai</td>\n",
              "      <td>182</td>\n",
              "    </tr>\n",
              "    <tr>\n",
              "      <th>3</th>\n",
              "      <td>NaN</td>\n",
              "      <td>NaN</td>\n",
              "      <td>2</td>\n",
              "      <td>Alathur</td>\n",
              "      <td>37312</td>\n",
              "      <td>Ahmedabad-Mumbai</td>\n",
              "      <td>203</td>\n",
              "    </tr>\n",
              "    <tr>\n",
              "      <th>4</th>\n",
              "      <td>NaN</td>\n",
              "      <td>NaN</td>\n",
              "      <td>3</td>\n",
              "      <td>Attingal</td>\n",
              "      <td>69378</td>\n",
              "      <td>Hyderabad-Mumbai</td>\n",
              "      <td>240</td>\n",
              "    </tr>\n",
              "    <tr>\n",
              "      <th>5</th>\n",
              "      <td>NaN</td>\n",
              "      <td>NaN</td>\n",
              "      <td>4</td>\n",
              "      <td>Chalakudy</td>\n",
              "      <td>13884</td>\n",
              "      <td>Mumbai-Goa</td>\n",
              "      <td>164</td>\n",
              "    </tr>\n",
              "    <tr>\n",
              "      <th>6</th>\n",
              "      <td>NaN</td>\n",
              "      <td>NaN</td>\n",
              "      <td>5</td>\n",
              "      <td>Ernakulum</td>\n",
              "      <td>87047</td>\n",
              "      <td>Delhi-Kolkata</td>\n",
              "      <td>265</td>\n",
              "    </tr>\n",
              "    <tr>\n",
              "      <th>7</th>\n",
              "      <td>NaN</td>\n",
              "      <td>NaN</td>\n",
              "      <td>6</td>\n",
              "      <td>Idukki</td>\n",
              "      <td>50542</td>\n",
              "      <td>Chennai-Delhi</td>\n",
              "      <td>226</td>\n",
              "    </tr>\n",
              "    <tr>\n",
              "      <th>8</th>\n",
              "      <td>NaN</td>\n",
              "      <td>NaN</td>\n",
              "      <td>7</td>\n",
              "      <td>Kannur</td>\n",
              "      <td>6566</td>\n",
              "      <td>Delhi-Bangalore</td>\n",
              "      <td>156</td>\n",
              "    </tr>\n",
              "    <tr>\n",
              "      <th>9</th>\n",
              "      <td>NaN</td>\n",
              "      <td>NaN</td>\n",
              "      <td>8</td>\n",
              "      <td>Kasaragod</td>\n",
              "      <td>6921</td>\n",
              "      <td>Mumbai-Chennai</td>\n",
              "      <td>161</td>\n",
              "    </tr>\n",
              "    <tr>\n",
              "      <th>10</th>\n",
              "      <td>NaN</td>\n",
              "      <td>NaN</td>\n",
              "      <td>9</td>\n",
              "      <td>Kollam</td>\n",
              "      <td>37649</td>\n",
              "      <td>Kolkata-Delhi</td>\n",
              "      <td>219</td>\n",
              "    </tr>\n",
              "    <tr>\n",
              "      <th>11</th>\n",
              "      <td>NaN</td>\n",
              "      <td>NaN</td>\n",
              "      <td>10</td>\n",
              "      <td>Kottayam</td>\n",
              "      <td>120599</td>\n",
              "      <td>Mumbai–Delhi</td>\n",
              "      <td>328</td>\n",
              "    </tr>\n",
              "    <tr>\n",
              "      <th>12</th>\n",
              "      <td>NaN</td>\n",
              "      <td>NaN</td>\n",
              "      <td>11</td>\n",
              "      <td>Kozhikode</td>\n",
              "      <td>16883</td>\n",
              "      <td>Hyderabad-Delhi</td>\n",
              "      <td>181</td>\n",
              "    </tr>\n",
              "    <tr>\n",
              "      <th>13</th>\n",
              "      <td>NaN</td>\n",
              "      <td>NaN</td>\n",
              "      <td>12</td>\n",
              "      <td>Malappuram</td>\n",
              "      <td>194740</td>\n",
              "      <td>Delhi–Mumbai</td>\n",
              "      <td>340</td>\n",
              "    </tr>\n",
              "    <tr>\n",
              "      <th>14</th>\n",
              "      <td>NaN</td>\n",
              "      <td>NaN</td>\n",
              "      <td>13</td>\n",
              "      <td>Mavelikkara</td>\n",
              "      <td>32737</td>\n",
              "      <td>Mumbai-Ahmedabad</td>\n",
              "      <td>202</td>\n",
              "    </tr>\n",
              "    <tr>\n",
              "      <th>15</th>\n",
              "      <td>NaN</td>\n",
              "      <td>NaN</td>\n",
              "      <td>14</td>\n",
              "      <td>Palakkad</td>\n",
              "      <td>105300</td>\n",
              "      <td>Mumbai-Hyderabad</td>\n",
              "      <td>284</td>\n",
              "    </tr>\n",
              "    <tr>\n",
              "      <th>16</th>\n",
              "      <td>NaN</td>\n",
              "      <td>NaN</td>\n",
              "      <td>15</td>\n",
              "      <td>Pathanamthitta</td>\n",
              "      <td>56191</td>\n",
              "      <td>Chennai-Mumbai</td>\n",
              "      <td>234</td>\n",
              "    </tr>\n",
              "    <tr>\n",
              "      <th>17</th>\n",
              "      <td>NaN</td>\n",
              "      <td>NaN</td>\n",
              "      <td>16</td>\n",
              "      <td>Ponnani</td>\n",
              "      <td>25410</td>\n",
              "      <td>Bangalore-Delhi</td>\n",
              "      <td>199</td>\n",
              "    </tr>\n",
              "    <tr>\n",
              "      <th>18</th>\n",
              "      <td>NaN</td>\n",
              "      <td>NaN</td>\n",
              "      <td>17</td>\n",
              "      <td>Thiruvananthapuram</td>\n",
              "      <td>15470</td>\n",
              "      <td>Goa-Mumbai</td>\n",
              "      <td>178</td>\n",
              "    </tr>\n",
              "    <tr>\n",
              "      <th>19</th>\n",
              "      <td>NaN</td>\n",
              "      <td>NaN</td>\n",
              "      <td>18</td>\n",
              "      <td>Thrissur</td>\n",
              "      <td>38228</td>\n",
              "      <td>Delhi-Chennai</td>\n",
              "      <td>225</td>\n",
              "    </tr>\n",
              "    <tr>\n",
              "      <th>20</th>\n",
              "      <td>NaN</td>\n",
              "      <td>NaN</td>\n",
              "      <td>19</td>\n",
              "      <td>Vadakara</td>\n",
              "      <td>3306</td>\n",
              "      <td>Delhi-Hyderabad</td>\n",
              "      <td>146</td>\n",
              "    </tr>\n",
              "    <tr>\n",
              "      <th>21</th>\n",
              "      <td>NaN</td>\n",
              "      <td>NaN</td>\n",
              "      <td>20</td>\n",
              "      <td>Wayanad</td>\n",
              "      <td>20870</td>\n",
              "      <td>Mumbai-Bangalore</td>\n",
              "      <td>197</td>\n",
              "    </tr>\n",
              "  </tbody>\n",
              "</table>\n",
              "</div>\n",
              "      <button class=\"colab-df-convert\" onclick=\"convertToInteractive('df-0cfa3672-d810-4bce-a540-4961218129f6')\"\n",
              "              title=\"Convert this dataframe to an interactive table.\"\n",
              "              style=\"display:none;\">\n",
              "        \n",
              "  <svg xmlns=\"http://www.w3.org/2000/svg\" height=\"24px\"viewBox=\"0 0 24 24\"\n",
              "       width=\"24px\">\n",
              "    <path d=\"M0 0h24v24H0V0z\" fill=\"none\"/>\n",
              "    <path d=\"M18.56 5.44l.94 2.06.94-2.06 2.06-.94-2.06-.94-.94-2.06-.94 2.06-2.06.94zm-11 1L8.5 8.5l.94-2.06 2.06-.94-2.06-.94L8.5 2.5l-.94 2.06-2.06.94zm10 10l.94 2.06.94-2.06 2.06-.94-2.06-.94-.94-2.06-.94 2.06-2.06.94z\"/><path d=\"M17.41 7.96l-1.37-1.37c-.4-.4-.92-.59-1.43-.59-.52 0-1.04.2-1.43.59L10.3 9.45l-7.72 7.72c-.78.78-.78 2.05 0 2.83L4 21.41c.39.39.9.59 1.41.59.51 0 1.02-.2 1.41-.59l7.78-7.78 2.81-2.81c.8-.78.8-2.07 0-2.86zM5.41 20L4 18.59l7.72-7.72 1.47 1.35L5.41 20z\"/>\n",
              "  </svg>\n",
              "      </button>\n",
              "      \n",
              "  <style>\n",
              "    .colab-df-container {\n",
              "      display:flex;\n",
              "      flex-wrap:wrap;\n",
              "      gap: 12px;\n",
              "    }\n",
              "\n",
              "    .colab-df-convert {\n",
              "      background-color: #E8F0FE;\n",
              "      border: none;\n",
              "      border-radius: 50%;\n",
              "      cursor: pointer;\n",
              "      display: none;\n",
              "      fill: #1967D2;\n",
              "      height: 32px;\n",
              "      padding: 0 0 0 0;\n",
              "      width: 32px;\n",
              "    }\n",
              "\n",
              "    .colab-df-convert:hover {\n",
              "      background-color: #E2EBFA;\n",
              "      box-shadow: 0px 1px 2px rgba(60, 64, 67, 0.3), 0px 1px 3px 1px rgba(60, 64, 67, 0.15);\n",
              "      fill: #174EA6;\n",
              "    }\n",
              "\n",
              "    [theme=dark] .colab-df-convert {\n",
              "      background-color: #3B4455;\n",
              "      fill: #D2E3FC;\n",
              "    }\n",
              "\n",
              "    [theme=dark] .colab-df-convert:hover {\n",
              "      background-color: #434B5C;\n",
              "      box-shadow: 0px 1px 3px 1px rgba(0, 0, 0, 0.15);\n",
              "      filter: drop-shadow(0px 1px 2px rgba(0, 0, 0, 0.3));\n",
              "      fill: #FFFFFF;\n",
              "    }\n",
              "  </style>\n",
              "\n",
              "      <script>\n",
              "        const buttonEl =\n",
              "          document.querySelector('#df-0cfa3672-d810-4bce-a540-4961218129f6 button.colab-df-convert');\n",
              "        buttonEl.style.display =\n",
              "          google.colab.kernel.accessAllowed ? 'block' : 'none';\n",
              "\n",
              "        async function convertToInteractive(key) {\n",
              "          const element = document.querySelector('#df-0cfa3672-d810-4bce-a540-4961218129f6');\n",
              "          const dataTable =\n",
              "            await google.colab.kernel.invokeFunction('convertToInteractive',\n",
              "                                                     [key], {});\n",
              "          if (!dataTable) return;\n",
              "\n",
              "          const docLinkHtml = 'Like what you see? Visit the ' +\n",
              "            '<a target=\"_blank\" href=https://colab.research.google.com/notebooks/data_table.ipynb>data table notebook</a>'\n",
              "            + ' to learn more about interactive tables.';\n",
              "          element.innerHTML = '';\n",
              "          dataTable['output_type'] = 'display_data';\n",
              "          await google.colab.output.renderOutput(dataTable, element);\n",
              "          const docLink = document.createElement('div');\n",
              "          docLink.innerHTML = docLinkHtml;\n",
              "          element.appendChild(docLink);\n",
              "        }\n",
              "      </script>\n",
              "    </div>\n",
              "  </div>\n",
              "  "
            ]
          },
          "metadata": {},
          "execution_count": 4
        }
      ]
    },
    {
      "cell_type": "code",
      "source": [
        "X"
      ],
      "metadata": {
        "colab": {
          "base_uri": "https://localhost:8080/"
        },
        "id": "x6X6c1qx971y",
        "outputId": "31248b9c-7fc3-4cb3-92fa-ff307066e05d"
      },
      "execution_count": null,
      "outputs": [
        {
          "output_type": "execute_result",
          "data": {
            "text/plain": [
              "array([[182],\n",
              "       [203],\n",
              "       [240],\n",
              "       [164],\n",
              "       [265],\n",
              "       [226],\n",
              "       [156],\n",
              "       [161],\n",
              "       [219],\n",
              "       [328],\n",
              "       [181],\n",
              "       [340],\n",
              "       [202],\n",
              "       [284],\n",
              "       [234],\n",
              "       [199],\n",
              "       [178],\n",
              "       [225],\n",
              "       [146],\n",
              "       [197]], dtype=object)"
            ]
          },
          "metadata": {},
          "execution_count": 22
        }
      ]
    },
    {
      "cell_type": "code",
      "source": [
        "y"
      ],
      "metadata": {
        "colab": {
          "base_uri": "https://localhost:8080/"
        },
        "id": "ytG5XwDr-ofJ",
        "outputId": "55af5713-35dd-4232-9e99-95c812494ee4"
      },
      "execution_count": null,
      "outputs": [
        {
          "output_type": "execute_result",
          "data": {
            "text/plain": [
              "array([[19407],\n",
              "       [37312],\n",
              "       [69378],\n",
              "       [13884],\n",
              "       [87047],\n",
              "       [50542],\n",
              "       [6566],\n",
              "       [6921],\n",
              "       [37649],\n",
              "       [120599],\n",
              "       [16883],\n",
              "       [194740],\n",
              "       [32737],\n",
              "       [105300],\n",
              "       [56191],\n",
              "       [25410],\n",
              "       [15470],\n",
              "       [38228],\n",
              "       [3306],\n",
              "       [20870]], dtype=object)"
            ]
          },
          "metadata": {},
          "execution_count": 23
        }
      ]
    },
    {
      "cell_type": "code",
      "source": [
        "from sklearn.model_selection import train_test_split\n",
        "X_train, X_test, y_train, y_test = train_test_split(X,y,test_size=1/3)"
      ],
      "metadata": {
        "id": "9bNEIoyo_tcQ"
      },
      "execution_count": null,
      "outputs": []
    },
    {
      "cell_type": "code",
      "source": [
        "from sklearn.linear_model import LinearRegression\n",
        "regressor = LinearRegression()\n",
        "regressor.fit(X_train,y_train)"
      ],
      "metadata": {
        "colab": {
          "base_uri": "https://localhost:8080/"
        },
        "id": "5yGbiX3u_8P_",
        "outputId": "73cf2742-9ca7-4158-faff-cc82f9308a36"
      },
      "execution_count": null,
      "outputs": [
        {
          "output_type": "execute_result",
          "data": {
            "text/plain": [
              "LinearRegression()"
            ]
          },
          "metadata": {},
          "execution_count": 25
        }
      ]
    },
    {
      "cell_type": "code",
      "source": [
        "y_pred = regressor.predict(X_test)"
      ],
      "metadata": {
        "id": "XRetYvoRAHCo"
      },
      "execution_count": null,
      "outputs": []
    },
    {
      "cell_type": "code",
      "source": [
        "y_test"
      ],
      "metadata": {
        "colab": {
          "base_uri": "https://localhost:8080/"
        },
        "id": "SvLcwehxAXXW",
        "outputId": "5dc4a882-4054-450f-f816-d0f8d4c4c3df"
      },
      "execution_count": null,
      "outputs": [
        {
          "output_type": "execute_result",
          "data": {
            "text/plain": [
              "array([[37649],\n",
              "       [3306],\n",
              "       [6566],\n",
              "       [15470],\n",
              "       [87047],\n",
              "       [16883],\n",
              "       [37312]], dtype=object)"
            ]
          },
          "metadata": {},
          "execution_count": 27
        }
      ]
    },
    {
      "cell_type": "code",
      "source": [
        "y_pred"
      ],
      "metadata": {
        "colab": {
          "base_uri": "https://localhost:8080/"
        },
        "id": "t76VntWsAZlS",
        "outputId": "c2ebbf18-26da-4d77-cd1f-506629e1a774"
      },
      "execution_count": null,
      "outputs": [
        {
          "output_type": "execute_result",
          "data": {
            "text/plain": [
              "array([[ 48650.3950965 ],\n",
              "       [-17185.7978918 ],\n",
              "       [ -8167.14131806],\n",
              "       [ 11673.90314417],\n",
              "       [ 90136.2153357 ],\n",
              "       [ 14379.50011629],\n",
              "       [ 34220.54457852]])"
            ]
          },
          "metadata": {},
          "execution_count": 28
        }
      ]
    },
    {
      "cell_type": "code",
      "source": [
        "#train_set\n",
        "plt.title('Trained Set', color='brown')\n",
        "plt.xlabel(\"Maximum Delay in Minutes\")\n",
        "plt.ylabel(\"Winning Margin\")\n",
        "plt.scatter(X_train,y_train, color='red')\n",
        "plt.plot(X_train, regressor.predict(X_train))"
      ],
      "metadata": {
        "colab": {
          "base_uri": "https://localhost:8080/",
          "height": 312
        },
        "id": "uaCB3_5oAjVn",
        "outputId": "f7edd66d-1260-4410-a29c-fd553d6a4d30"
      },
      "execution_count": null,
      "outputs": [
        {
          "output_type": "execute_result",
          "data": {
            "text/plain": [
              "[<matplotlib.lines.Line2D at 0x7f7f3f341c90>]"
            ]
          },
          "metadata": {},
          "execution_count": 29
        },
        {
          "output_type": "display_data",
          "data": {
            "text/plain": [
              "<Figure size 432x288 with 1 Axes>"
            ],
            "image/png": "[encoded data removed]"
          },
          "metadata": {
            "needs_background": "light"
          }
        }
      ]
    },
    {
      "cell_type": "code",
      "source": [
        "#Test set\n",
        "plt.title('Test Set', color='brown')\n",
        "plt.xlabel(\"Maximum Delay in Minutes\")\n",
        "plt.ylabel(\"Winning Margin\")\n",
        "plt.plot(X_train, regressor.predict(X_train))\n",
        "plt.scatter(X_test,y_test, color='red')"
      ],
      "metadata": {
        "colab": {
          "base_uri": "https://localhost:8080/",
          "height": 312
        },
        "id": "vEW2HHHhAwrk",
        "outputId": "a8d433db-93bd-4aab-a2d2-43c28287de93"
      },
      "execution_count": null,
      "outputs": [
        {
          "output_type": "execute_result",
          "data": {
            "text/plain": [
              "<matplotlib.collections.PathCollection at 0x7f7f3f2d7850>"
            ]
          },
          "metadata": {},
          "execution_count": 30
        },
        {
          "output_type": "display_data",
          "data": {
            "text/plain": [
              "<Figure size 432x288 with 1 Axes>"
            ],
            "image/png": "[encoded data removed]"
          },
          "metadata": {
            "needs_background": "light"
          }
        }
      ]
    },
    {
      "cell_type": "code",
      "source": [
        "X_train"
      ],
      "metadata": {
        "colab": {
          "base_uri": "https://localhost:8080/"
        },
        "id": "HXELrziAA9_b",
        "outputId": "c03b382a-281c-4f71-967c-9c2416f4b4a6"
      },
      "execution_count": null,
      "outputs": [
        {
          "output_type": "execute_result",
          "data": {
            "text/plain": [
              "array([[164],\n",
              "       [226],\n",
              "       [234],\n",
              "       [197],\n",
              "       [328],\n",
              "       [199],\n",
              "       [182],\n",
              "       [240],\n",
              "       [340],\n",
              "       [202],\n",
              "       [284],\n",
              "       [225],\n",
              "       [161]], dtype=object)"
            ]
          },
          "metadata": {},
          "execution_count": 31
        }
      ]
    },
    {
      "cell_type": "code",
      "source": [
        "r2_score = regressor.score(X_test,y_test)"
      ],
      "metadata": {
        "id": "kjgi07_oBE39"
      },
      "execution_count": null,
      "outputs": []
    },
    {
      "cell_type": "code",
      "source": [
        "r2_score"
      ],
      "metadata": {
        "colab": {
          "base_uri": "https://localhost:8080/"
        },
        "id": "LceB82XTBRCs",
        "outputId": "752c5216-6a55-459b-ef46-0ef56f9ae6b4"
      },
      "execution_count": null,
      "outputs": [
        {
          "output_type": "execute_result",
          "data": {
            "text/plain": [
              "0.8406488960334888"
            ]
          },
          "metadata": {},
          "execution_count": 33
        }
      ]
    },
    {
      "cell_type": "code",
      "source": [
        "r2_score*100,'%'"
      ],
      "metadata": {
        "colab": {
          "base_uri": "https://localhost:8080/"
        },
        "id": "YVAxuzLGBZHR",
        "outputId": "a0bc5d84-4932-41a5-83d4-e8a3b9ed8b1d"
      },
      "execution_count": null,
      "outputs": [
        {
          "output_type": "execute_result",
          "data": {
            "text/plain": [
              "(84.06488960334887, '%')"
            ]
          },
          "metadata": {},
          "execution_count": 34
        }
      ]
    }
  ]
}